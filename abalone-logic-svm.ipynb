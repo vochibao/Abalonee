{
 "cells": [
  {
   "cell_type": "code",
   "execution_count": 1,
   "id": "9bbcc5b7",
   "metadata": {
    "_cell_guid": "b1076dfc-b9ad-4769-8c92-a6c4dae69d19",
    "_uuid": "8f2839f25d086af736a60e9eeb907d3b93b6e0e5",
    "execution": {
     "iopub.execute_input": "2022-06-13T06:49:00.341311Z",
     "iopub.status.busy": "2022-06-13T06:49:00.340579Z",
     "iopub.status.idle": "2022-06-13T06:49:00.356961Z",
     "shell.execute_reply": "2022-06-13T06:49:00.356199Z"
    },
    "papermill": {
     "duration": 0.036383,
     "end_time": "2022-06-13T06:49:00.359470",
     "exception": false,
     "start_time": "2022-06-13T06:49:00.323087",
     "status": "completed"
    },
    "tags": []
   },
   "outputs": [
    {
     "name": "stdout",
     "output_type": "stream",
     "text": [
      "/kaggle/input/abalonedatasett/abalonee.csv\n"
     ]
    }
   ],
   "source": [
    "# This Python 3 environment comes with many helpful analytics libraries installed\n",
    "# It is defined by the kaggle/python Docker image: https://github.com/kaggle/docker-python\n",
    "# For example, here's several helpful packages to load\n",
    "\n",
    "import numpy as np # linear algebra\n",
    "import pandas as pd # data processing, CSV file I/O (e.g. pd.read_csv)\n",
    "\n",
    "# Input data files are available in the read-only \"../input/\" directory\n",
    "# For example, running this (by clicking run or pressing Shift+Enter) will list all files under the input directory\n",
    "\n",
    "import os\n",
    "for dirname, _, filenames in os.walk('/kaggle/input'):\n",
    "    for filename in filenames:\n",
    "        print(os.path.join(dirname, filename))\n",
    "\n",
    "# You can write up to 20GB to the current directory (/kaggle/working/) that gets preserved as output when you create a version using \"Save & Run All\" \n",
    "# You can also write temporary files to /kaggle/temp/, but they won't be saved outside of the current session"
   ]
  },
  {
   "cell_type": "code",
   "execution_count": 2,
   "id": "7e7004e5",
   "metadata": {
    "execution": {
     "iopub.execute_input": "2022-06-13T06:49:00.390343Z",
     "iopub.status.busy": "2022-06-13T06:49:00.389635Z",
     "iopub.status.idle": "2022-06-13T06:49:01.562036Z",
     "shell.execute_reply": "2022-06-13T06:49:01.561275Z"
    },
    "papermill": {
     "duration": 1.190884,
     "end_time": "2022-06-13T06:49:01.564559",
     "exception": false,
     "start_time": "2022-06-13T06:49:00.373675",
     "status": "completed"
    },
    "tags": []
   },
   "outputs": [],
   "source": [
    "''' import thu vien '''\n",
    "import pandas as pd\n",
    "import numpy as np\n",
    "\n",
    "import matplotlib.pyplot as plt\n",
    "import seaborn as sns"
   ]
  },
  {
   "cell_type": "code",
   "execution_count": 3,
   "id": "b7fafab6",
   "metadata": {
    "execution": {
     "iopub.execute_input": "2022-06-13T06:49:01.594880Z",
     "iopub.status.busy": "2022-06-13T06:49:01.593977Z",
     "iopub.status.idle": "2022-06-13T06:49:01.964391Z",
     "shell.execute_reply": "2022-06-13T06:49:01.963509Z"
    },
    "papermill": {
     "duration": 0.388121,
     "end_time": "2022-06-13T06:49:01.966789",
     "exception": false,
     "start_time": "2022-06-13T06:49:01.578668",
     "status": "completed"
    },
    "tags": []
   },
   "outputs": [],
   "source": [
    "''' SK-Learn Library Import, Thư viện cung cấp một tập các công cụ xử lý các bài toán machine learning và statistical modeling gồm: classification , regression , clustering , và dimensionality reduction'''\n",
    "from sklearn.preprocessing import LabelEncoder, OneHotEncoder\n",
    "from sklearn.linear_model import LogisticRegression\n",
    "\n",
    "from sklearn.exceptions import ConvergenceWarning \n",
    "from sklearn.model_selection import train_test_split\n",
    "from sklearn.metrics import make_scorer, accuracy_score, confusion_matrix\n",
    "import sklearn.datasets "
   ]
  },
  {
   "cell_type": "code",
   "execution_count": 4,
   "id": "5f0b68f5",
   "metadata": {
    "execution": {
     "iopub.execute_input": "2022-06-13T06:49:01.998924Z",
     "iopub.status.busy": "2022-06-13T06:49:01.997294Z",
     "iopub.status.idle": "2022-06-13T06:49:02.002883Z",
     "shell.execute_reply": "2022-06-13T06:49:02.002125Z"
    },
    "papermill": {
     "duration": 0.023162,
     "end_time": "2022-06-13T06:49:02.005072",
     "exception": false,
     "start_time": "2022-06-13T06:49:01.981910",
     "status": "completed"
    },
    "tags": []
   },
   "outputs": [],
   "source": [
    "''' import thu vien Scipy'''\n",
    "from scipy.stats import skew"
   ]
  },
  {
   "cell_type": "code",
   "execution_count": 5,
   "id": "1fa6c48c",
   "metadata": {
    "execution": {
     "iopub.execute_input": "2022-06-13T06:49:02.035428Z",
     "iopub.status.busy": "2022-06-13T06:49:02.034648Z",
     "iopub.status.idle": "2022-06-13T06:49:02.039487Z",
     "shell.execute_reply": "2022-06-13T06:49:02.038763Z"
    },
    "papermill": {
     "duration": 0.022785,
     "end_time": "2022-06-13T06:49:02.041707",
     "exception": false,
     "start_time": "2022-06-13T06:49:02.018922",
     "status": "completed"
    },
    "tags": []
   },
   "outputs": [],
   "source": [
    "''' To Ignore Warning'''\n",
    "import warnings\n",
    "warnings.filterwarnings('ignore')"
   ]
  },
  {
   "cell_type": "code",
   "execution_count": 6,
   "id": "7b243d6b",
   "metadata": {
    "execution": {
     "iopub.execute_input": "2022-06-13T06:49:02.071612Z",
     "iopub.status.busy": "2022-06-13T06:49:02.071181Z",
     "iopub.status.idle": "2022-06-13T06:49:02.078771Z",
     "shell.execute_reply": "2022-06-13T06:49:02.077750Z"
    },
    "papermill": {
     "duration": 0.024925,
     "end_time": "2022-06-13T06:49:02.080841",
     "exception": false,
     "start_time": "2022-06-13T06:49:02.055916",
     "status": "completed"
    },
    "tags": []
   },
   "outputs": [],
   "source": [
    "''' To Do : Inline Priting of Visualizations '''\n",
    "sns.set()\n",
    "%matplotlib inline"
   ]
  },
  {
   "cell_type": "code",
   "execution_count": 7,
   "id": "432119f8",
   "metadata": {
    "execution": {
     "iopub.execute_input": "2022-06-13T06:49:02.110668Z",
     "iopub.status.busy": "2022-06-13T06:49:02.110251Z",
     "iopub.status.idle": "2022-06-13T06:49:02.131772Z",
     "shell.execute_reply": "2022-06-13T06:49:02.130731Z"
    },
    "papermill": {
     "duration": 0.039233,
     "end_time": "2022-06-13T06:49:02.133992",
     "exception": false,
     "start_time": "2022-06-13T06:49:02.094759",
     "status": "completed"
    },
    "tags": []
   },
   "outputs": [],
   "source": [
    "''' Importing Data : from the Archive Directly'''\n",
    "df = pd.read_csv(r'../input/abalonedatasett/abalonee.csv')"
   ]
  },
  {
   "cell_type": "code",
   "execution_count": 8,
   "id": "55a2afa3",
   "metadata": {
    "execution": {
     "iopub.execute_input": "2022-06-13T06:49:02.164249Z",
     "iopub.status.busy": "2022-06-13T06:49:02.163089Z",
     "iopub.status.idle": "2022-06-13T06:49:02.189226Z",
     "shell.execute_reply": "2022-06-13T06:49:02.188266Z"
    },
    "papermill": {
     "duration": 0.04363,
     "end_time": "2022-06-13T06:49:02.191740",
     "exception": false,
     "start_time": "2022-06-13T06:49:02.148110",
     "status": "completed"
    },
    "tags": []
   },
   "outputs": [
    {
     "data": {
      "text/html": [
       "<div>\n",
       "<style scoped>\n",
       "    .dataframe tbody tr th:only-of-type {\n",
       "        vertical-align: middle;\n",
       "    }\n",
       "\n",
       "    .dataframe tbody tr th {\n",
       "        vertical-align: top;\n",
       "    }\n",
       "\n",
       "    .dataframe thead th {\n",
       "        text-align: right;\n",
       "    }\n",
       "</style>\n",
       "<table border=\"1\" class=\"dataframe\">\n",
       "  <thead>\n",
       "    <tr style=\"text-align: right;\">\n",
       "      <th></th>\n",
       "      <th>Sex</th>\n",
       "      <th>Length</th>\n",
       "      <th>Diameter</th>\n",
       "      <th>Height</th>\n",
       "      <th>Whole weight</th>\n",
       "      <th>Shucked weight</th>\n",
       "      <th>Viscera weight</th>\n",
       "      <th>Shell weight</th>\n",
       "      <th>Rings</th>\n",
       "    </tr>\n",
       "  </thead>\n",
       "  <tbody>\n",
       "    <tr>\n",
       "      <th>0</th>\n",
       "      <td>M</td>\n",
       "      <td>0.455</td>\n",
       "      <td>0.365</td>\n",
       "      <td>0.095</td>\n",
       "      <td>0.5140</td>\n",
       "      <td>0.2245</td>\n",
       "      <td>0.1010</td>\n",
       "      <td>0.150</td>\n",
       "      <td>15</td>\n",
       "    </tr>\n",
       "    <tr>\n",
       "      <th>1</th>\n",
       "      <td>M</td>\n",
       "      <td>0.350</td>\n",
       "      <td>0.265</td>\n",
       "      <td>0.090</td>\n",
       "      <td>0.2255</td>\n",
       "      <td>0.0995</td>\n",
       "      <td>0.0485</td>\n",
       "      <td>0.070</td>\n",
       "      <td>7</td>\n",
       "    </tr>\n",
       "    <tr>\n",
       "      <th>2</th>\n",
       "      <td>F</td>\n",
       "      <td>0.530</td>\n",
       "      <td>0.420</td>\n",
       "      <td>0.135</td>\n",
       "      <td>0.6770</td>\n",
       "      <td>0.2565</td>\n",
       "      <td>0.1415</td>\n",
       "      <td>0.210</td>\n",
       "      <td>9</td>\n",
       "    </tr>\n",
       "    <tr>\n",
       "      <th>3</th>\n",
       "      <td>M</td>\n",
       "      <td>0.440</td>\n",
       "      <td>0.365</td>\n",
       "      <td>0.125</td>\n",
       "      <td>0.5160</td>\n",
       "      <td>0.2155</td>\n",
       "      <td>0.1140</td>\n",
       "      <td>0.155</td>\n",
       "      <td>10</td>\n",
       "    </tr>\n",
       "    <tr>\n",
       "      <th>4</th>\n",
       "      <td>I</td>\n",
       "      <td>0.330</td>\n",
       "      <td>0.255</td>\n",
       "      <td>0.080</td>\n",
       "      <td>0.2050</td>\n",
       "      <td>0.0895</td>\n",
       "      <td>0.0395</td>\n",
       "      <td>0.055</td>\n",
       "      <td>7</td>\n",
       "    </tr>\n",
       "  </tbody>\n",
       "</table>\n",
       "</div>"
      ],
      "text/plain": [
       "  Sex  Length  Diameter  Height  Whole weight  Shucked weight  Viscera weight  \\\n",
       "0   M   0.455     0.365   0.095        0.5140          0.2245          0.1010   \n",
       "1   M   0.350     0.265   0.090        0.2255          0.0995          0.0485   \n",
       "2   F   0.530     0.420   0.135        0.6770          0.2565          0.1415   \n",
       "3   M   0.440     0.365   0.125        0.5160          0.2155          0.1140   \n",
       "4   I   0.330     0.255   0.080        0.2050          0.0895          0.0395   \n",
       "\n",
       "   Shell weight  Rings  \n",
       "0         0.150     15  \n",
       "1         0.070      7  \n",
       "2         0.210      9  \n",
       "3         0.155     10  \n",
       "4         0.055      7  "
      ]
     },
     "execution_count": 8,
     "metadata": {},
     "output_type": "execute_result"
    }
   ],
   "source": [
    "'' 'Hiển thị phần đầu -> Để Kiểm tra xem dữ liệu có được nhập đúng cách hay không'''\n",
    "df.head()"
   ]
  },
  {
   "cell_type": "code",
   "execution_count": 9,
   "id": "98d3ef3c",
   "metadata": {
    "execution": {
     "iopub.execute_input": "2022-06-13T06:49:02.222242Z",
     "iopub.status.busy": "2022-06-13T06:49:02.221817Z",
     "iopub.status.idle": "2022-06-13T06:49:02.247545Z",
     "shell.execute_reply": "2022-06-13T06:49:02.246710Z"
    },
    "papermill": {
     "duration": 0.043271,
     "end_time": "2022-06-13T06:49:02.249887",
     "exception": false,
     "start_time": "2022-06-13T06:49:02.206616",
     "status": "completed"
    },
    "tags": []
   },
   "outputs": [
    {
     "name": "stdout",
     "output_type": "stream",
     "text": [
      "<class 'pandas.core.frame.DataFrame'>\n",
      "RangeIndex: 4177 entries, 0 to 4176\n",
      "Data columns (total 9 columns):\n",
      " #   Column          Non-Null Count  Dtype  \n",
      "---  ------          --------------  -----  \n",
      " 0   Sex             4177 non-null   object \n",
      " 1   Length          4177 non-null   float64\n",
      " 2   Diameter        4177 non-null   float64\n",
      " 3   Height          4177 non-null   float64\n",
      " 4   Whole weight    4177 non-null   float64\n",
      " 5   Shucked weight  4177 non-null   float64\n",
      " 6   Viscera weight  4177 non-null   float64\n",
      " 7   Shell weight    4177 non-null   float64\n",
      " 8   Rings           4177 non-null   int64  \n",
      "dtypes: float64(7), int64(1), object(1)\n",
      "memory usage: 293.8+ KB\n"
     ]
    }
   ],
   "source": [
    "''' Thông tin tính năng của DataSet'''\n",
    "df.info()"
   ]
  },
  {
   "cell_type": "markdown",
   "id": "0e5cf6ce",
   "metadata": {
    "papermill": {
     "duration": 0.013646,
     "end_time": "2022-06-13T06:49:02.277633",
     "exception": false,
     "start_time": "2022-06-13T06:49:02.263987",
     "status": "completed"
    },
    "tags": []
   },
   "source": [
    "##### Theo Thông tin:\n",
    "\n",
    "- 1) Dữ liệu No-Null\n",
    "- 2) 1 - Loại đối tượng\n",
    "- 3) 7 - Loại float\n",
    "- 4) 1 - Loại Int"
   ]
  },
  {
   "cell_type": "code",
   "execution_count": 10,
   "id": "7a004234",
   "metadata": {
    "execution": {
     "iopub.execute_input": "2022-06-13T06:49:02.308255Z",
     "iopub.status.busy": "2022-06-13T06:49:02.307384Z",
     "iopub.status.idle": "2022-06-13T06:49:02.345172Z",
     "shell.execute_reply": "2022-06-13T06:49:02.344437Z"
    },
    "papermill": {
     "duration": 0.05583,
     "end_time": "2022-06-13T06:49:02.347404",
     "exception": false,
     "start_time": "2022-06-13T06:49:02.291574",
     "status": "completed"
    },
    "tags": []
   },
   "outputs": [
    {
     "data": {
      "text/html": [
       "<div>\n",
       "<style scoped>\n",
       "    .dataframe tbody tr th:only-of-type {\n",
       "        vertical-align: middle;\n",
       "    }\n",
       "\n",
       "    .dataframe tbody tr th {\n",
       "        vertical-align: top;\n",
       "    }\n",
       "\n",
       "    .dataframe thead th {\n",
       "        text-align: right;\n",
       "    }\n",
       "</style>\n",
       "<table border=\"1\" class=\"dataframe\">\n",
       "  <thead>\n",
       "    <tr style=\"text-align: right;\">\n",
       "      <th></th>\n",
       "      <th>Length</th>\n",
       "      <th>Diameter</th>\n",
       "      <th>Height</th>\n",
       "      <th>Whole weight</th>\n",
       "      <th>Shucked weight</th>\n",
       "      <th>Viscera weight</th>\n",
       "      <th>Shell weight</th>\n",
       "      <th>Rings</th>\n",
       "    </tr>\n",
       "  </thead>\n",
       "  <tbody>\n",
       "    <tr>\n",
       "      <th>count</th>\n",
       "      <td>4177.000000</td>\n",
       "      <td>4177.000000</td>\n",
       "      <td>4177.000000</td>\n",
       "      <td>4177.000000</td>\n",
       "      <td>4177.000000</td>\n",
       "      <td>4177.000000</td>\n",
       "      <td>4177.000000</td>\n",
       "      <td>4177.000000</td>\n",
       "    </tr>\n",
       "    <tr>\n",
       "      <th>mean</th>\n",
       "      <td>0.523992</td>\n",
       "      <td>0.407881</td>\n",
       "      <td>0.139516</td>\n",
       "      <td>0.828742</td>\n",
       "      <td>0.359367</td>\n",
       "      <td>0.180594</td>\n",
       "      <td>0.238831</td>\n",
       "      <td>9.933684</td>\n",
       "    </tr>\n",
       "    <tr>\n",
       "      <th>std</th>\n",
       "      <td>0.120093</td>\n",
       "      <td>0.099240</td>\n",
       "      <td>0.041827</td>\n",
       "      <td>0.490389</td>\n",
       "      <td>0.221963</td>\n",
       "      <td>0.109614</td>\n",
       "      <td>0.139203</td>\n",
       "      <td>3.224169</td>\n",
       "    </tr>\n",
       "    <tr>\n",
       "      <th>min</th>\n",
       "      <td>0.075000</td>\n",
       "      <td>0.055000</td>\n",
       "      <td>0.000000</td>\n",
       "      <td>0.002000</td>\n",
       "      <td>0.001000</td>\n",
       "      <td>0.000500</td>\n",
       "      <td>0.001500</td>\n",
       "      <td>1.000000</td>\n",
       "    </tr>\n",
       "    <tr>\n",
       "      <th>25%</th>\n",
       "      <td>0.450000</td>\n",
       "      <td>0.350000</td>\n",
       "      <td>0.115000</td>\n",
       "      <td>0.441500</td>\n",
       "      <td>0.186000</td>\n",
       "      <td>0.093500</td>\n",
       "      <td>0.130000</td>\n",
       "      <td>8.000000</td>\n",
       "    </tr>\n",
       "    <tr>\n",
       "      <th>50%</th>\n",
       "      <td>0.545000</td>\n",
       "      <td>0.425000</td>\n",
       "      <td>0.140000</td>\n",
       "      <td>0.799500</td>\n",
       "      <td>0.336000</td>\n",
       "      <td>0.171000</td>\n",
       "      <td>0.234000</td>\n",
       "      <td>9.000000</td>\n",
       "    </tr>\n",
       "    <tr>\n",
       "      <th>75%</th>\n",
       "      <td>0.615000</td>\n",
       "      <td>0.480000</td>\n",
       "      <td>0.165000</td>\n",
       "      <td>1.153000</td>\n",
       "      <td>0.502000</td>\n",
       "      <td>0.253000</td>\n",
       "      <td>0.329000</td>\n",
       "      <td>11.000000</td>\n",
       "    </tr>\n",
       "    <tr>\n",
       "      <th>max</th>\n",
       "      <td>0.815000</td>\n",
       "      <td>0.650000</td>\n",
       "      <td>1.130000</td>\n",
       "      <td>2.825500</td>\n",
       "      <td>1.488000</td>\n",
       "      <td>0.760000</td>\n",
       "      <td>1.005000</td>\n",
       "      <td>29.000000</td>\n",
       "    </tr>\n",
       "  </tbody>\n",
       "</table>\n",
       "</div>"
      ],
      "text/plain": [
       "            Length     Diameter       Height  Whole weight  Shucked weight  \\\n",
       "count  4177.000000  4177.000000  4177.000000   4177.000000     4177.000000   \n",
       "mean      0.523992     0.407881     0.139516      0.828742        0.359367   \n",
       "std       0.120093     0.099240     0.041827      0.490389        0.221963   \n",
       "min       0.075000     0.055000     0.000000      0.002000        0.001000   \n",
       "25%       0.450000     0.350000     0.115000      0.441500        0.186000   \n",
       "50%       0.545000     0.425000     0.140000      0.799500        0.336000   \n",
       "75%       0.615000     0.480000     0.165000      1.153000        0.502000   \n",
       "max       0.815000     0.650000     1.130000      2.825500        1.488000   \n",
       "\n",
       "       Viscera weight  Shell weight        Rings  \n",
       "count     4177.000000   4177.000000  4177.000000  \n",
       "mean         0.180594      0.238831     9.933684  \n",
       "std          0.109614      0.139203     3.224169  \n",
       "min          0.000500      0.001500     1.000000  \n",
       "25%          0.093500      0.130000     8.000000  \n",
       "50%          0.171000      0.234000     9.000000  \n",
       "75%          0.253000      0.329000    11.000000  \n",
       "max          0.760000      1.005000    29.000000  "
      ]
     },
     "execution_count": 10,
     "metadata": {},
     "output_type": "execute_result"
    }
   ],
   "source": [
    "'''Các tính năng số và các tính năng phân loại'''\n",
    "df.describe()"
   ]
  },
  {
   "cell_type": "code",
   "execution_count": 11,
   "id": "896ad917",
   "metadata": {
    "execution": {
     "iopub.execute_input": "2022-06-13T06:49:02.378786Z",
     "iopub.status.busy": "2022-06-13T06:49:02.378160Z",
     "iopub.status.idle": "2022-06-13T06:49:02.385742Z",
     "shell.execute_reply": "2022-06-13T06:49:02.384740Z"
    },
    "papermill": {
     "duration": 0.026224,
     "end_time": "2022-06-13T06:49:02.388114",
     "exception": false,
     "start_time": "2022-06-13T06:49:02.361890",
     "status": "completed"
    },
    "tags": []
   },
   "outputs": [],
   "source": [
    "\n",
    "'' 'Tính năng số và tính năng phân loại' ''\n",
    "nf = df.select_dtypes(include=[np.number]).columns\n",
    "cf = df.select_dtypes(include=[np.object]).columns"
   ]
  },
  {
   "cell_type": "code",
   "execution_count": 12,
   "id": "87dc4501",
   "metadata": {
    "execution": {
     "iopub.execute_input": "2022-06-13T06:49:02.418761Z",
     "iopub.status.busy": "2022-06-13T06:49:02.418330Z",
     "iopub.status.idle": "2022-06-13T06:49:02.424307Z",
     "shell.execute_reply": "2022-06-13T06:49:02.423502Z"
    },
    "papermill": {
     "duration": 0.024013,
     "end_time": "2022-06-13T06:49:02.426522",
     "exception": false,
     "start_time": "2022-06-13T06:49:02.402509",
     "status": "completed"
    },
    "tags": []
   },
   "outputs": [
    {
     "data": {
      "text/plain": [
       "Index(['Length', 'Diameter', 'Height', 'Whole weight', 'Shucked weight',\n",
       "       'Viscera weight', 'Shell weight', 'Rings'],\n",
       "      dtype='object')"
      ]
     },
     "execution_count": 12,
     "metadata": {},
     "output_type": "execute_result"
    }
   ],
   "source": [
    "'''Danh sách các tính năng số'''\n",
    "nf"
   ]
  },
  {
   "cell_type": "code",
   "execution_count": 13,
   "id": "877f4418",
   "metadata": {
    "execution": {
     "iopub.execute_input": "2022-06-13T06:49:02.458624Z",
     "iopub.status.busy": "2022-06-13T06:49:02.457989Z",
     "iopub.status.idle": "2022-06-13T06:49:02.463387Z",
     "shell.execute_reply": "2022-06-13T06:49:02.462655Z"
    },
    "papermill": {
     "duration": 0.023464,
     "end_time": "2022-06-13T06:49:02.465329",
     "exception": false,
     "start_time": "2022-06-13T06:49:02.441865",
     "status": "completed"
    },
    "tags": []
   },
   "outputs": [
    {
     "data": {
      "text/plain": [
       "Index(['Sex'], dtype='object')"
      ]
     },
     "execution_count": 13,
     "metadata": {},
     "output_type": "execute_result"
    }
   ],
   "source": [
    "''' Danh sách các tính năng phân loại'''\n",
    "cf"
   ]
  },
  {
   "cell_type": "code",
   "execution_count": 14,
   "id": "12c3ea6c",
   "metadata": {
    "execution": {
     "iopub.execute_input": "2022-06-13T06:49:02.498544Z",
     "iopub.status.busy": "2022-06-13T06:49:02.497897Z",
     "iopub.status.idle": "2022-06-13T06:49:04.242061Z",
     "shell.execute_reply": "2022-06-13T06:49:04.241058Z"
    },
    "papermill": {
     "duration": 1.764502,
     "end_time": "2022-06-13T06:49:04.244512",
     "exception": false,
     "start_time": "2022-06-13T06:49:02.480010",
     "status": "completed"
    },
    "tags": []
   },
   "outputs": [
    {
     "data": {
      "text/plain": [
       "array([[<AxesSubplot:title={'center':'Length'}>,\n",
       "        <AxesSubplot:title={'center':'Diameter'}>,\n",
       "        <AxesSubplot:title={'center':'Height'}>,\n",
       "        <AxesSubplot:title={'center':'Whole weight'}>],\n",
       "       [<AxesSubplot:title={'center':'Shucked weight'}>,\n",
       "        <AxesSubplot:title={'center':'Viscera weight'}>,\n",
       "        <AxesSubplot:title={'center':'Shell weight'}>,\n",
       "        <AxesSubplot:title={'center':'Rings'}>]], dtype=object)"
      ]
     },
     "execution_count": 14,
     "metadata": {},
     "output_type": "execute_result"
    },
    {
     "data": {
      "image/png": "[encoded data removed]",
      "text/plain": [
       "<Figure size 1440x1440 with 8 Axes>"
      ]
     },
     "metadata": {
      "needs_background": "light"
     },
     "output_type": "display_data"
    }
   ],
   "source": [
    "'''Biểu đồ: để xem phân phối dữ liệu số'''\n",
    "df.hist(figsize=(20,20), grid = True, layout = (2,4), bins = 30)"
   ]
  },
  {
   "cell_type": "code",
   "execution_count": 15,
   "id": "3817178d",
   "metadata": {
    "execution": {
     "iopub.execute_input": "2022-06-13T06:49:04.278199Z",
     "iopub.status.busy": "2022-06-13T06:49:04.277021Z",
     "iopub.status.idle": "2022-06-13T06:49:04.287178Z",
     "shell.execute_reply": "2022-06-13T06:49:04.286296Z"
    },
    "papermill": {
     "duration": 0.029217,
     "end_time": "2022-06-13T06:49:04.289483",
     "exception": false,
     "start_time": "2022-06-13T06:49:04.260266",
     "status": "completed"
    },
    "tags": []
   },
   "outputs": [],
   "source": [
    "'''Sau khi xem Biểu đồ phân phối dữ liệu phía trên, tôi cảm thấy Dữ liệu bị lệch, vì vậy hãy kiểm tra Độ lệch '''\n",
    "skew_list = skew(df[nf],nan_policy='omit') #sending all numericalfeatures and omitting nan values\n",
    "skew_list_df = pd.concat([pd.DataFrame(nf,columns=['Features']),pd.DataFrame(skew_list,columns=['Skewness'])],axis = 1)"
   ]
  },
  {
   "cell_type": "code",
   "execution_count": 16,
   "id": "f6d2690b",
   "metadata": {
    "execution": {
     "iopub.execute_input": "2022-06-13T06:49:04.322378Z",
     "iopub.status.busy": "2022-06-13T06:49:04.321821Z",
     "iopub.status.idle": "2022-06-13T06:49:04.333314Z",
     "shell.execute_reply": "2022-06-13T06:49:04.332382Z"
    },
    "papermill": {
     "duration": 0.030453,
     "end_time": "2022-06-13T06:49:04.335464",
     "exception": false,
     "start_time": "2022-06-13T06:49:04.305011",
     "status": "completed"
    },
    "tags": []
   },
   "outputs": [
    {
     "data": {
      "text/html": [
       "<div>\n",
       "<style scoped>\n",
       "    .dataframe tbody tr th:only-of-type {\n",
       "        vertical-align: middle;\n",
       "    }\n",
       "\n",
       "    .dataframe tbody tr th {\n",
       "        vertical-align: top;\n",
       "    }\n",
       "\n",
       "    .dataframe thead th {\n",
       "        text-align: right;\n",
       "    }\n",
       "</style>\n",
       "<table border=\"1\" class=\"dataframe\">\n",
       "  <thead>\n",
       "    <tr style=\"text-align: right;\">\n",
       "      <th></th>\n",
       "      <th>Features</th>\n",
       "      <th>Skewness</th>\n",
       "    </tr>\n",
       "  </thead>\n",
       "  <tbody>\n",
       "    <tr>\n",
       "      <th>2</th>\n",
       "      <td>Height</td>\n",
       "      <td>3.127694</td>\n",
       "    </tr>\n",
       "    <tr>\n",
       "      <th>7</th>\n",
       "      <td>Rings</td>\n",
       "      <td>1.113702</td>\n",
       "    </tr>\n",
       "    <tr>\n",
       "      <th>4</th>\n",
       "      <td>Shucked weight</td>\n",
       "      <td>0.718840</td>\n",
       "    </tr>\n",
       "    <tr>\n",
       "      <th>6</th>\n",
       "      <td>Shell weight</td>\n",
       "      <td>0.620704</td>\n",
       "    </tr>\n",
       "    <tr>\n",
       "      <th>5</th>\n",
       "      <td>Viscera weight</td>\n",
       "      <td>0.591640</td>\n",
       "    </tr>\n",
       "    <tr>\n",
       "      <th>3</th>\n",
       "      <td>Whole weight</td>\n",
       "      <td>0.530768</td>\n",
       "    </tr>\n",
       "    <tr>\n",
       "      <th>1</th>\n",
       "      <td>Diameter</td>\n",
       "      <td>-0.608979</td>\n",
       "    </tr>\n",
       "    <tr>\n",
       "      <th>0</th>\n",
       "      <td>Length</td>\n",
       "      <td>-0.639643</td>\n",
       "    </tr>\n",
       "  </tbody>\n",
       "</table>\n",
       "</div>"
      ],
      "text/plain": [
       "         Features  Skewness\n",
       "2          Height  3.127694\n",
       "7           Rings  1.113702\n",
       "4  Shucked weight  0.718840\n",
       "6    Shell weight  0.620704\n",
       "5  Viscera weight  0.591640\n",
       "3    Whole weight  0.530768\n",
       "1        Diameter -0.608979\n",
       "0          Length -0.639643"
      ]
     },
     "execution_count": 16,
     "metadata": {},
     "output_type": "execute_result"
    }
   ],
   "source": [
    "skew_list_df.sort_values(by='Skewness', ascending = False)"
   ]
  },
  {
   "cell_type": "markdown",
   "id": "29f5ef15",
   "metadata": {
    "papermill": {
     "duration": 0.015942,
     "end_time": "2022-06-13T06:49:04.367633",
     "exception": false,
     "start_time": "2022-06-13T06:49:04.351691",
     "status": "completed"
    },
    "tags": []
   },
   "source": [
    "###### \n",
    "Theo các quy tắc\n",
    "- Đối với Dữ liệu được phân phối thông thường, Độ nghiêng phải lớn hơn 0\n",
    "- Độ xiên> 0, Trọng lượng nhiều hơn nằm ở đuôi bên phải của phân phối\n"
   ]
  },
  {
   "cell_type": "code",
   "execution_count": 17,
   "id": "38e4d3d0",
   "metadata": {
    "execution": {
     "iopub.execute_input": "2022-06-13T06:49:04.400985Z",
     "iopub.status.busy": "2022-06-13T06:49:04.400376Z",
     "iopub.status.idle": "2022-06-13T06:49:04.410103Z",
     "shell.execute_reply": "2022-06-13T06:49:04.409243Z"
    },
    "papermill": {
     "duration": 0.029029,
     "end_time": "2022-06-13T06:49:04.412372",
     "exception": false,
     "start_time": "2022-06-13T06:49:04.383343",
     "status": "completed"
    },
    "tags": []
   },
   "outputs": [],
   "source": [
    "'''Giá trị bị mất '''\n",
    "mv_df = df.isnull().sum().sort_values(ascending = False)\n",
    "pmv_df = (mv_df/len(df)) * 100\n",
    "missing_df = pd.concat([mv_df,pmv_df], axis = 1, keys = ['Missing Values','% Missing'])"
   ]
  },
  {
   "cell_type": "code",
   "execution_count": 18,
   "id": "9a153732",
   "metadata": {
    "execution": {
     "iopub.execute_input": "2022-06-13T06:49:04.446157Z",
     "iopub.status.busy": "2022-06-13T06:49:04.445491Z",
     "iopub.status.idle": "2022-06-13T06:49:04.455444Z",
     "shell.execute_reply": "2022-06-13T06:49:04.454763Z"
    },
    "papermill": {
     "duration": 0.029197,
     "end_time": "2022-06-13T06:49:04.457378",
     "exception": false,
     "start_time": "2022-06-13T06:49:04.428181",
     "status": "completed"
    },
    "tags": []
   },
   "outputs": [
    {
     "data": {
      "text/html": [
       "<div>\n",
       "<style scoped>\n",
       "    .dataframe tbody tr th:only-of-type {\n",
       "        vertical-align: middle;\n",
       "    }\n",
       "\n",
       "    .dataframe tbody tr th {\n",
       "        vertical-align: top;\n",
       "    }\n",
       "\n",
       "    .dataframe thead th {\n",
       "        text-align: right;\n",
       "    }\n",
       "</style>\n",
       "<table border=\"1\" class=\"dataframe\">\n",
       "  <thead>\n",
       "    <tr style=\"text-align: right;\">\n",
       "      <th></th>\n",
       "      <th>Missing Values</th>\n",
       "      <th>% Missing</th>\n",
       "    </tr>\n",
       "  </thead>\n",
       "  <tbody>\n",
       "    <tr>\n",
       "      <th>Sex</th>\n",
       "      <td>0</td>\n",
       "      <td>0.0</td>\n",
       "    </tr>\n",
       "    <tr>\n",
       "      <th>Length</th>\n",
       "      <td>0</td>\n",
       "      <td>0.0</td>\n",
       "    </tr>\n",
       "    <tr>\n",
       "      <th>Diameter</th>\n",
       "      <td>0</td>\n",
       "      <td>0.0</td>\n",
       "    </tr>\n",
       "    <tr>\n",
       "      <th>Height</th>\n",
       "      <td>0</td>\n",
       "      <td>0.0</td>\n",
       "    </tr>\n",
       "    <tr>\n",
       "      <th>Whole weight</th>\n",
       "      <td>0</td>\n",
       "      <td>0.0</td>\n",
       "    </tr>\n",
       "    <tr>\n",
       "      <th>Shucked weight</th>\n",
       "      <td>0</td>\n",
       "      <td>0.0</td>\n",
       "    </tr>\n",
       "    <tr>\n",
       "      <th>Viscera weight</th>\n",
       "      <td>0</td>\n",
       "      <td>0.0</td>\n",
       "    </tr>\n",
       "    <tr>\n",
       "      <th>Shell weight</th>\n",
       "      <td>0</td>\n",
       "      <td>0.0</td>\n",
       "    </tr>\n",
       "    <tr>\n",
       "      <th>Rings</th>\n",
       "      <td>0</td>\n",
       "      <td>0.0</td>\n",
       "    </tr>\n",
       "  </tbody>\n",
       "</table>\n",
       "</div>"
      ],
      "text/plain": [
       "                Missing Values  % Missing\n",
       "Sex                          0        0.0\n",
       "Length                       0        0.0\n",
       "Diameter                     0        0.0\n",
       "Height                       0        0.0\n",
       "Whole weight                 0        0.0\n",
       "Shucked weight               0        0.0\n",
       "Viscera weight               0        0.0\n",
       "Shell weight                 0        0.0\n",
       "Rings                        0        0.0"
      ]
     },
     "execution_count": 18,
     "metadata": {},
     "output_type": "execute_result"
    }
   ],
   "source": [
    "missing_df"
   ]
  },
  {
   "cell_type": "code",
   "execution_count": 19,
   "id": "c122dd45",
   "metadata": {
    "execution": {
     "iopub.execute_input": "2022-06-13T06:49:04.491489Z",
     "iopub.status.busy": "2022-06-13T06:49:04.490890Z",
     "iopub.status.idle": "2022-06-13T06:49:04.499864Z",
     "shell.execute_reply": "2022-06-13T06:49:04.498506Z"
    },
    "papermill": {
     "duration": 0.029168,
     "end_time": "2022-06-13T06:49:04.502669",
     "exception": false,
     "start_time": "2022-06-13T06:49:04.473501",
     "status": "completed"
    },
    "tags": []
   },
   "outputs": [
    {
     "name": "stdout",
     "output_type": "stream",
     "text": [
      "Value Count of Rings Column\n",
      "9     689\n",
      "10    634\n",
      "8     568\n",
      "11    487\n",
      "7     391\n",
      "12    267\n",
      "6     259\n",
      "13    203\n",
      "14    126\n",
      "5     115\n",
      "15    103\n",
      "16     67\n",
      "17     58\n",
      "4      57\n",
      "18     42\n",
      "19     32\n",
      "20     26\n",
      "3      15\n",
      "21     14\n",
      "23      9\n",
      "22      6\n",
      "27      2\n",
      "24      2\n",
      "1       1\n",
      "26      1\n",
      "29      1\n",
      "2       1\n",
      "25      1\n",
      "Name: Rings, dtype: int64\n",
      "\n",
      "Percentage of Rings Column\n",
      "9     0.164951\n",
      "10    0.151784\n",
      "8     0.135983\n",
      "11    0.116591\n",
      "7     0.093608\n",
      "12    0.063921\n",
      "6     0.062006\n",
      "13    0.048599\n",
      "14    0.030165\n",
      "5     0.027532\n",
      "15    0.024659\n",
      "16    0.016040\n",
      "17    0.013886\n",
      "4     0.013646\n",
      "18    0.010055\n",
      "19    0.007661\n",
      "20    0.006225\n",
      "3     0.003591\n",
      "21    0.003352\n",
      "23    0.002155\n",
      "22    0.001436\n",
      "27    0.000479\n",
      "24    0.000479\n",
      "1     0.000239\n",
      "26    0.000239\n",
      "29    0.000239\n",
      "2     0.000239\n",
      "25    0.000239\n",
      "Name: Rings, dtype: float64\n"
     ]
    }
   ],
   "source": [
    "'''Phân tích cột mục tiêu'''\n",
    "print(\"Value Count of Rings Column\")\n",
    "print(df.Rings.value_counts())\n",
    "print(\"\\nPercentage of Rings Column\")\n",
    "print(df.Rings.value_counts(normalize = True))"
   ]
  },
  {
   "cell_type": "markdown",
   "id": "07d2ba96",
   "metadata": {
    "papermill": {
     "duration": 0.016246,
     "end_time": "2022-06-13T06:49:04.535899",
     "exception": false,
     "start_time": "2022-06-13T06:49:04.519653",
     "status": "completed"
    },
    "tags": []
   },
   "source": [
    "###### No of Classes In Target"
   ]
  },
  {
   "cell_type": "code",
   "execution_count": 20,
   "id": "034c7eda",
   "metadata": {
    "execution": {
     "iopub.execute_input": "2022-06-13T06:49:04.570976Z",
     "iopub.status.busy": "2022-06-13T06:49:04.570319Z",
     "iopub.status.idle": "2022-06-13T06:49:04.575549Z",
     "shell.execute_reply": "2022-06-13T06:49:04.574511Z"
    },
    "papermill": {
     "duration": 0.025029,
     "end_time": "2022-06-13T06:49:04.577564",
     "exception": false,
     "start_time": "2022-06-13T06:49:04.552535",
     "status": "completed"
    },
    "tags": []
   },
   "outputs": [
    {
     "name": "stdout",
     "output_type": "stream",
     "text": [
      "28\n"
     ]
    }
   ],
   "source": [
    "print(len(df.Rings.unique()))"
   ]
  },
  {
   "cell_type": "markdown",
   "id": "9c67a317",
   "metadata": {
    "papermill": {
     "duration": 0.015885,
     "end_time": "2022-06-13T06:49:04.609624",
     "exception": false,
     "start_time": "2022-06-13T06:49:04.593739",
     "status": "completed"
    },
    "tags": []
   },
   "source": [
    "### Visualization, hiển thị"
   ]
  },
  {
   "cell_type": "code",
   "execution_count": 21,
   "id": "d73e07a4",
   "metadata": {
    "execution": {
     "iopub.execute_input": "2022-06-13T06:49:04.644158Z",
     "iopub.status.busy": "2022-06-13T06:49:04.643214Z",
     "iopub.status.idle": "2022-06-13T06:49:04.843629Z",
     "shell.execute_reply": "2022-06-13T06:49:04.842471Z"
    },
    "papermill": {
     "duration": 0.220068,
     "end_time": "2022-06-13T06:49:04.845920",
     "exception": false,
     "start_time": "2022-06-13T06:49:04.625852",
     "status": "completed"
    },
    "tags": []
   },
   "outputs": [
    {
     "data": {
      "text/plain": [
       "<AxesSubplot:xlabel='Sex', ylabel='count'>"
      ]
     },
     "execution_count": 21,
     "metadata": {},
     "output_type": "execute_result"
    },
    {
     "data": {
      "image/png": "[encoded data removed]",
      "text/plain": [
       "<Figure size 432x288 with 1 Axes>"
      ]
     },
     "metadata": {
      "needs_background": "light"
     },
     "output_type": "display_data"
    }
   ],
   "source": [
    "'''Số giới tính của Bào ngư, M - Nam, F - Nữ, I - Trẻ sơ sinh'''\n",
    "sns.countplot(x='Sex', data = df)"
   ]
  },
  {
   "cell_type": "code",
   "execution_count": 22,
   "id": "319c8d3a",
   "metadata": {
    "execution": {
     "iopub.execute_input": "2022-06-13T06:49:04.881674Z",
     "iopub.status.busy": "2022-06-13T06:49:04.880536Z",
     "iopub.status.idle": "2022-06-13T06:49:04.891132Z",
     "shell.execute_reply": "2022-06-13T06:49:04.890022Z"
    },
    "papermill": {
     "duration": 0.031372,
     "end_time": "2022-06-13T06:49:04.893997",
     "exception": false,
     "start_time": "2022-06-13T06:49:04.862625",
     "status": "completed"
    },
    "tags": []
   },
   "outputs": [
    {
     "name": "stdout",
     "output_type": "stream",
     "text": [
      "\n",
      "Sex Count in Percentage\n",
      "M    0.365813\n",
      "I    0.321283\n",
      "F    0.312904\n",
      "Name: Sex, dtype: float64\n",
      "\n",
      "Sex Count in Numbers\n",
      "M    1528\n",
      "I    1342\n",
      "F    1307\n",
      "Name: Sex, dtype: int64\n"
     ]
    }
   ],
   "source": [
    "'' 'Tỷ lệ giới tính ở Bào ngư' ''\n",
    "print(\"\\nSex Count in Percentage\")\n",
    "print(df.Sex.value_counts(normalize = True))\n",
    "print(\"\\nSex Count in Numbers\")\n",
    "print(df.Sex.value_counts())"
   ]
  },
  {
   "cell_type": "code",
   "execution_count": 23,
   "id": "523df39b",
   "metadata": {
    "execution": {
     "iopub.execute_input": "2022-06-13T06:49:04.930035Z",
     "iopub.status.busy": "2022-06-13T06:49:04.929364Z",
     "iopub.status.idle": "2022-06-13T06:49:04.937798Z",
     "shell.execute_reply": "2022-06-13T06:49:04.936924Z"
    },
    "papermill": {
     "duration": 0.02847,
     "end_time": "2022-06-13T06:49:04.939943",
     "exception": false,
     "start_time": "2022-06-13T06:49:04.911473",
     "status": "completed"
    },
    "tags": []
   },
   "outputs": [
    {
     "data": {
      "text/plain": [
       "0    16.5\n",
       "1     8.5\n",
       "2    10.5\n",
       "3    11.5\n",
       "4     8.5\n",
       "Name: Age, dtype: float64"
      ]
     },
     "execution_count": 23,
     "metadata": {},
     "output_type": "execute_result"
    }
   ],
   "source": [
    "'''Kỹ thuật tính năng nhỏ, Tuổi từ cột Nhẫn, Tuổi = Nhẫn + 1,5'''\n",
    "df['Age'] = df['Rings'] + 1.5\n",
    "df['Age'].head(5)"
   ]
  },
  {
   "cell_type": "code",
   "execution_count": 24,
   "id": "9df84d45",
   "metadata": {
    "execution": {
     "iopub.execute_input": "2022-06-13T06:49:04.976382Z",
     "iopub.status.busy": "2022-06-13T06:49:04.975208Z",
     "iopub.status.idle": "2022-06-13T06:49:30.621578Z",
     "shell.execute_reply": "2022-06-13T06:49:30.620472Z"
    },
    "papermill": {
     "duration": 25.667104,
     "end_time": "2022-06-13T06:49:30.624039",
     "exception": false,
     "start_time": "2022-06-13T06:49:04.956935",
     "status": "completed"
    },
    "tags": []
   },
   "outputs": [
    {
     "data": {
      "text/plain": [
       "<AxesSubplot:xlabel='Sex', ylabel='Age'>"
      ]
     },
     "execution_count": 24,
     "metadata": {},
     "output_type": "execute_result"
    },
    {
     "data": {
      "image/png": "[encoded data removed]",
      "text/plain": [
       "<Figure size 1440x504 with 1 Axes>"
      ]
     },
     "metadata": {
      "needs_background": "light"
     },
     "output_type": "display_data"
    }
   ],
   "source": [
    "'''Hiển thị giới tính và tuổi tác'''\n",
    "plt.figure(figsize = (20,7))\n",
    "sns.swarmplot(x = 'Sex', y = 'Age', data = df, hue = 'Sex')\n",
    "sns.violinplot(x = 'Sex', y = 'Age', data = df)"
   ]
  },
  {
   "cell_type": "markdown",
   "id": "11a3ff6e",
   "metadata": {
    "papermill": {
     "duration": 0.018739,
     "end_time": "2022-06-13T06:49:30.662133",
     "exception": false,
     "start_time": "2022-06-13T06:49:30.643394",
     "status": "completed"
    },
    "tags": []
   },
   "source": [
    "###### Theo Đồ thị trên\n",
    "- Nam: Đa số Từ 7,5 đến 19\n",
    "- Nữ: Đa số từ 8 đến 19\n",
    "- Trẻ sơ sinh: Đa số Từ 6 đến <10"
   ]
  },
  {
   "cell_type": "code",
   "execution_count": 25,
   "id": "6b276d72",
   "metadata": {
    "execution": {
     "iopub.execute_input": "2022-06-13T06:49:30.701593Z",
     "iopub.status.busy": "2022-06-13T06:49:30.701171Z",
     "iopub.status.idle": "2022-06-13T06:49:30.724499Z",
     "shell.execute_reply": "2022-06-13T06:49:30.723497Z"
    },
    "papermill": {
     "duration": 0.045502,
     "end_time": "2022-06-13T06:49:30.726619",
     "exception": false,
     "start_time": "2022-06-13T06:49:30.681117",
     "status": "completed"
    },
    "tags": []
   },
   "outputs": [
    {
     "data": {
      "text/html": [
       "<div>\n",
       "<style scoped>\n",
       "    .dataframe tbody tr th:only-of-type {\n",
       "        vertical-align: middle;\n",
       "    }\n",
       "\n",
       "    .dataframe tbody tr th {\n",
       "        vertical-align: top;\n",
       "    }\n",
       "\n",
       "    .dataframe thead th {\n",
       "        text-align: right;\n",
       "    }\n",
       "</style>\n",
       "<table border=\"1\" class=\"dataframe\">\n",
       "  <thead>\n",
       "    <tr style=\"text-align: right;\">\n",
       "      <th></th>\n",
       "      <th>Length</th>\n",
       "      <th>Diameter</th>\n",
       "      <th>Height</th>\n",
       "      <th>Whole weight</th>\n",
       "      <th>Shucked weight</th>\n",
       "      <th>Viscera weight</th>\n",
       "      <th>Shell weight</th>\n",
       "      <th>Age</th>\n",
       "    </tr>\n",
       "    <tr>\n",
       "      <th>Sex</th>\n",
       "      <th></th>\n",
       "      <th></th>\n",
       "      <th></th>\n",
       "      <th></th>\n",
       "      <th></th>\n",
       "      <th></th>\n",
       "      <th></th>\n",
       "      <th></th>\n",
       "    </tr>\n",
       "  </thead>\n",
       "  <tbody>\n",
       "    <tr>\n",
       "      <th>F</th>\n",
       "      <td>0.579093</td>\n",
       "      <td>0.454732</td>\n",
       "      <td>0.158011</td>\n",
       "      <td>1.046532</td>\n",
       "      <td>0.446188</td>\n",
       "      <td>0.230689</td>\n",
       "      <td>0.302010</td>\n",
       "      <td>12.629304</td>\n",
       "    </tr>\n",
       "    <tr>\n",
       "      <th>M</th>\n",
       "      <td>0.561391</td>\n",
       "      <td>0.439287</td>\n",
       "      <td>0.151381</td>\n",
       "      <td>0.991459</td>\n",
       "      <td>0.432946</td>\n",
       "      <td>0.215545</td>\n",
       "      <td>0.281969</td>\n",
       "      <td>12.205497</td>\n",
       "    </tr>\n",
       "    <tr>\n",
       "      <th>I</th>\n",
       "      <td>0.427746</td>\n",
       "      <td>0.326494</td>\n",
       "      <td>0.107996</td>\n",
       "      <td>0.431363</td>\n",
       "      <td>0.191035</td>\n",
       "      <td>0.092010</td>\n",
       "      <td>0.128182</td>\n",
       "      <td>9.390462</td>\n",
       "    </tr>\n",
       "  </tbody>\n",
       "</table>\n",
       "</div>"
      ],
      "text/plain": [
       "       Length  Diameter    Height  Whole weight  Shucked weight  \\\n",
       "Sex                                                               \n",
       "F    0.579093  0.454732  0.158011      1.046532        0.446188   \n",
       "M    0.561391  0.439287  0.151381      0.991459        0.432946   \n",
       "I    0.427746  0.326494  0.107996      0.431363        0.191035   \n",
       "\n",
       "     Viscera weight  Shell weight        Age  \n",
       "Sex                                           \n",
       "F          0.230689      0.302010  12.629304  \n",
       "M          0.215545      0.281969  12.205497  \n",
       "I          0.092010      0.128182   9.390462  "
      ]
     },
     "execution_count": 25,
     "metadata": {},
     "output_type": "execute_result"
    }
   ],
   "source": [
    "df.groupby('Sex')[['Length', 'Diameter', 'Height', 'Whole weight', \n",
    "                   'Shucked weight','Viscera weight', 'Shell weight', 'Age']].mean().sort_values(by = 'Age',ascending = False)"
   ]
  },
  {
   "cell_type": "markdown",
   "id": "758806e1",
   "metadata": {
    "papermill": {
     "duration": 0.018238,
     "end_time": "2022-06-13T06:49:30.763596",
     "exception": false,
     "start_time": "2022-06-13T06:49:30.745358",
     "status": "completed"
    },
    "tags": []
   },
   "source": [
    "   ###### xử lí trước dữ liệu cho mô hình"
   ]
  },
  {
   "cell_type": "code",
   "execution_count": 26,
   "id": "23b4a736",
   "metadata": {
    "execution": {
     "iopub.execute_input": "2022-06-13T06:49:30.803275Z",
     "iopub.status.busy": "2022-06-13T06:49:30.802626Z",
     "iopub.status.idle": "2022-06-13T06:49:30.809798Z",
     "shell.execute_reply": "2022-06-13T06:49:30.808842Z"
    },
    "papermill": {
     "duration": 0.0291,
     "end_time": "2022-06-13T06:49:30.812048",
     "exception": false,
     "start_time": "2022-06-13T06:49:30.782948",
     "status": "completed"
    },
    "tags": []
   },
   "outputs": [],
   "source": [
    "'''LabelEnconding the Categorical Data, để chuyển đổi dữ liệu của dữ liệu phân loại trước khi xây dựng mô hình''''''LabelEnconding the Categorical Data'''\n",
    "df['Sex'] = LabelEncoder().fit_transform(df['Sex'].tolist())"
   ]
  },
  {
   "cell_type": "code",
   "execution_count": 27,
   "id": "99f66e9c",
   "metadata": {
    "execution": {
     "iopub.execute_input": "2022-06-13T06:49:30.851948Z",
     "iopub.status.busy": "2022-06-13T06:49:30.851525Z",
     "iopub.status.idle": "2022-06-13T06:49:30.861653Z",
     "shell.execute_reply": "2022-06-13T06:49:30.860511Z"
    },
    "papermill": {
     "duration": 0.032736,
     "end_time": "2022-06-13T06:49:30.864225",
     "exception": false,
     "start_time": "2022-06-13T06:49:30.831489",
     "status": "completed"
    },
    "tags": []
   },
   "outputs": [],
   "source": [
    "'''One Hot Encoding for Sex Feature '''\n",
    "transformed_sex_feature = OneHotEncoder().fit_transform(df['Sex'].values.reshape(-1,1)).toarray()\n",
    "df_sex_encoded = pd.DataFrame(transformed_sex_feature, columns = [\"Sex_\"+str(int(i)) for i in range(transformed_sex_feature.shape[1])])\n",
    "df = pd.concat([df, df_sex_encoded], axis=1)"
   ]
  },
  {
   "cell_type": "code",
   "execution_count": 28,
   "id": "1baf944b",
   "metadata": {
    "execution": {
     "iopub.execute_input": "2022-06-13T06:49:30.903976Z",
     "iopub.status.busy": "2022-06-13T06:49:30.903548Z",
     "iopub.status.idle": "2022-06-13T06:49:30.924461Z",
     "shell.execute_reply": "2022-06-13T06:49:30.923514Z"
    },
    "papermill": {
     "duration": 0.043103,
     "end_time": "2022-06-13T06:49:30.926618",
     "exception": false,
     "start_time": "2022-06-13T06:49:30.883515",
     "status": "completed"
    },
    "tags": []
   },
   "outputs": [
    {
     "data": {
      "text/html": [
       "<div>\n",
       "<style scoped>\n",
       "    .dataframe tbody tr th:only-of-type {\n",
       "        vertical-align: middle;\n",
       "    }\n",
       "\n",
       "    .dataframe tbody tr th {\n",
       "        vertical-align: top;\n",
       "    }\n",
       "\n",
       "    .dataframe thead th {\n",
       "        text-align: right;\n",
       "    }\n",
       "</style>\n",
       "<table border=\"1\" class=\"dataframe\">\n",
       "  <thead>\n",
       "    <tr style=\"text-align: right;\">\n",
       "      <th></th>\n",
       "      <th>Sex</th>\n",
       "      <th>Length</th>\n",
       "      <th>Diameter</th>\n",
       "      <th>Height</th>\n",
       "      <th>Whole weight</th>\n",
       "      <th>Shucked weight</th>\n",
       "      <th>Viscera weight</th>\n",
       "      <th>Shell weight</th>\n",
       "      <th>Rings</th>\n",
       "      <th>Age</th>\n",
       "      <th>Sex_0</th>\n",
       "      <th>Sex_1</th>\n",
       "      <th>Sex_2</th>\n",
       "    </tr>\n",
       "  </thead>\n",
       "  <tbody>\n",
       "    <tr>\n",
       "      <th>0</th>\n",
       "      <td>2</td>\n",
       "      <td>0.455</td>\n",
       "      <td>0.365</td>\n",
       "      <td>0.095</td>\n",
       "      <td>0.5140</td>\n",
       "      <td>0.2245</td>\n",
       "      <td>0.1010</td>\n",
       "      <td>0.150</td>\n",
       "      <td>15</td>\n",
       "      <td>16.5</td>\n",
       "      <td>0.0</td>\n",
       "      <td>0.0</td>\n",
       "      <td>1.0</td>\n",
       "    </tr>\n",
       "    <tr>\n",
       "      <th>1</th>\n",
       "      <td>2</td>\n",
       "      <td>0.350</td>\n",
       "      <td>0.265</td>\n",
       "      <td>0.090</td>\n",
       "      <td>0.2255</td>\n",
       "      <td>0.0995</td>\n",
       "      <td>0.0485</td>\n",
       "      <td>0.070</td>\n",
       "      <td>7</td>\n",
       "      <td>8.5</td>\n",
       "      <td>0.0</td>\n",
       "      <td>0.0</td>\n",
       "      <td>1.0</td>\n",
       "    </tr>\n",
       "    <tr>\n",
       "      <th>2</th>\n",
       "      <td>0</td>\n",
       "      <td>0.530</td>\n",
       "      <td>0.420</td>\n",
       "      <td>0.135</td>\n",
       "      <td>0.6770</td>\n",
       "      <td>0.2565</td>\n",
       "      <td>0.1415</td>\n",
       "      <td>0.210</td>\n",
       "      <td>9</td>\n",
       "      <td>10.5</td>\n",
       "      <td>1.0</td>\n",
       "      <td>0.0</td>\n",
       "      <td>0.0</td>\n",
       "    </tr>\n",
       "    <tr>\n",
       "      <th>3</th>\n",
       "      <td>2</td>\n",
       "      <td>0.440</td>\n",
       "      <td>0.365</td>\n",
       "      <td>0.125</td>\n",
       "      <td>0.5160</td>\n",
       "      <td>0.2155</td>\n",
       "      <td>0.1140</td>\n",
       "      <td>0.155</td>\n",
       "      <td>10</td>\n",
       "      <td>11.5</td>\n",
       "      <td>0.0</td>\n",
       "      <td>0.0</td>\n",
       "      <td>1.0</td>\n",
       "    </tr>\n",
       "    <tr>\n",
       "      <th>4</th>\n",
       "      <td>1</td>\n",
       "      <td>0.330</td>\n",
       "      <td>0.255</td>\n",
       "      <td>0.080</td>\n",
       "      <td>0.2050</td>\n",
       "      <td>0.0895</td>\n",
       "      <td>0.0395</td>\n",
       "      <td>0.055</td>\n",
       "      <td>7</td>\n",
       "      <td>8.5</td>\n",
       "      <td>0.0</td>\n",
       "      <td>1.0</td>\n",
       "      <td>0.0</td>\n",
       "    </tr>\n",
       "  </tbody>\n",
       "</table>\n",
       "</div>"
      ],
      "text/plain": [
       "   Sex  Length  Diameter  Height  Whole weight  Shucked weight  \\\n",
       "0    2   0.455     0.365   0.095        0.5140          0.2245   \n",
       "1    2   0.350     0.265   0.090        0.2255          0.0995   \n",
       "2    0   0.530     0.420   0.135        0.6770          0.2565   \n",
       "3    2   0.440     0.365   0.125        0.5160          0.2155   \n",
       "4    1   0.330     0.255   0.080        0.2050          0.0895   \n",
       "\n",
       "   Viscera weight  Shell weight  Rings   Age  Sex_0  Sex_1  Sex_2  \n",
       "0          0.1010         0.150     15  16.5    0.0    0.0    1.0  \n",
       "1          0.0485         0.070      7   8.5    0.0    0.0    1.0  \n",
       "2          0.1415         0.210      9  10.5    1.0    0.0    0.0  \n",
       "3          0.1140         0.155     10  11.5    0.0    0.0    1.0  \n",
       "4          0.0395         0.055      7   8.5    0.0    1.0    0.0  "
      ]
     },
     "execution_count": 28,
     "metadata": {},
     "output_type": "execute_result"
    }
   ],
   "source": [
    "df.head()"
   ]
  },
  {
   "cell_type": "markdown",
   "id": "05af253b",
   "metadata": {
    "papermill": {
     "duration": 0.018472,
     "end_time": "2022-06-13T06:49:30.963808",
     "exception": false,
     "start_time": "2022-06-13T06:49:30.945336",
     "status": "completed"
    },
    "tags": []
   },
   "source": [
    "###### Tách dữ liệu cho mô hình\n",
    "- Tính năng học tập\n",
    "- Tính năng dự đoán\n",
    "- Phân chia đào tạo & kiểm tra"
   ]
  },
  {
   "cell_type": "code",
   "execution_count": 29,
   "id": "c1d6e56a",
   "metadata": {
    "execution": {
     "iopub.execute_input": "2022-06-13T06:49:31.003848Z",
     "iopub.status.busy": "2022-06-13T06:49:31.003043Z",
     "iopub.status.idle": "2022-06-13T06:49:31.009284Z",
     "shell.execute_reply": "2022-06-13T06:49:31.008531Z"
    },
    "papermill": {
     "duration": 0.02901,
     "end_time": "2022-06-13T06:49:31.011688",
     "exception": false,
     "start_time": "2022-06-13T06:49:30.982678",
     "status": "completed"
    },
    "tags": []
   },
   "outputs": [],
   "source": [
    "'''taobienmuctieumi '''\n",
    "df['newRings'] = np.where(df['Rings'] > 10,1,0)"
   ]
  },
  {
   "cell_type": "code",
   "execution_count": 30,
   "id": "753e023d",
   "metadata": {
    "execution": {
     "iopub.execute_input": "2022-06-13T06:49:31.053022Z",
     "iopub.status.busy": "2022-06-13T06:49:31.052481Z",
     "iopub.status.idle": "2022-06-13T06:49:31.059960Z",
     "shell.execute_reply": "2022-06-13T06:49:31.058912Z"
    },
    "papermill": {
     "duration": 0.030526,
     "end_time": "2022-06-13T06:49:31.062311",
     "exception": false,
     "start_time": "2022-06-13T06:49:31.031785",
     "status": "completed"
    },
    "tags": []
   },
   "outputs": [],
   "source": [
    "'''Tính năng học tập và tính năng dự đoán'''\n",
    "Xtrain = df.drop(['newRings','Rings','Age','Sex'], axis = 1)\n",
    "Ytrain = df['newRings']"
   ]
  },
  {
   "cell_type": "code",
   "execution_count": 31,
   "id": "6d4821f1",
   "metadata": {
    "execution": {
     "iopub.execute_input": "2022-06-13T06:49:31.103626Z",
     "iopub.status.busy": "2022-06-13T06:49:31.103034Z",
     "iopub.status.idle": "2022-06-13T06:49:31.109827Z",
     "shell.execute_reply": "2022-06-13T06:49:31.109165Z"
    },
    "papermill": {
     "duration": 0.030108,
     "end_time": "2022-06-13T06:49:31.111823",
     "exception": false,
     "start_time": "2022-06-13T06:49:31.081715",
     "status": "completed"
    },
    "tags": []
   },
   "outputs": [],
   "source": [
    "'''Train Test Split , 70:30 Ratio'''\n",
    "X_train, X_test, Y_train, Y_test = train_test_split(Xtrain, Ytrain, test_size=0.33, random_state=42)"
   ]
  },
  {
   "cell_type": "code",
   "execution_count": 32,
   "id": "5de1fa6b",
   "metadata": {
    "execution": {
     "iopub.execute_input": "2022-06-13T06:49:31.151637Z",
     "iopub.status.busy": "2022-06-13T06:49:31.151020Z",
     "iopub.status.idle": "2022-06-13T06:49:31.163106Z",
     "shell.execute_reply": "2022-06-13T06:49:31.162019Z"
    },
    "papermill": {
     "duration": 0.034631,
     "end_time": "2022-06-13T06:49:31.165290",
     "exception": false,
     "start_time": "2022-06-13T06:49:31.130659",
     "status": "completed"
    },
    "tags": []
   },
   "outputs": [
    {
     "name": "stdout",
     "output_type": "stream",
     "text": [
      "<class 'pandas.core.frame.DataFrame'>\n",
      "Int64Index: 2798 entries, 1593 to 860\n",
      "Data columns (total 10 columns):\n",
      " #   Column          Non-Null Count  Dtype  \n",
      "---  ------          --------------  -----  \n",
      " 0   Length          2798 non-null   float64\n",
      " 1   Diameter        2798 non-null   float64\n",
      " 2   Height          2798 non-null   float64\n",
      " 3   Whole weight    2798 non-null   float64\n",
      " 4   Shucked weight  2798 non-null   float64\n",
      " 5   Viscera weight  2798 non-null   float64\n",
      " 6   Shell weight    2798 non-null   float64\n",
      " 7   Sex_0           2798 non-null   float64\n",
      " 8   Sex_1           2798 non-null   float64\n",
      " 9   Sex_2           2798 non-null   float64\n",
      "dtypes: float64(10)\n",
      "memory usage: 240.5 KB\n"
     ]
    }
   ],
   "source": [
    "X_train.info()\n"
   ]
  },
  {
   "cell_type": "code",
   "execution_count": 33,
   "id": "810daf4c",
   "metadata": {
    "execution": {
     "iopub.execute_input": "2022-06-13T06:49:31.205531Z",
     "iopub.status.busy": "2022-06-13T06:49:31.204771Z",
     "iopub.status.idle": "2022-06-13T06:49:31.216040Z",
     "shell.execute_reply": "2022-06-13T06:49:31.215247Z"
    },
    "papermill": {
     "duration": 0.033965,
     "end_time": "2022-06-13T06:49:31.218196",
     "exception": false,
     "start_time": "2022-06-13T06:49:31.184231",
     "status": "completed"
    },
    "tags": []
   },
   "outputs": [
    {
     "name": "stdout",
     "output_type": "stream",
     "text": [
      "<class 'pandas.core.frame.DataFrame'>\n",
      "Int64Index: 1379 entries, 866 to 3431\n",
      "Data columns (total 10 columns):\n",
      " #   Column          Non-Null Count  Dtype  \n",
      "---  ------          --------------  -----  \n",
      " 0   Length          1379 non-null   float64\n",
      " 1   Diameter        1379 non-null   float64\n",
      " 2   Height          1379 non-null   float64\n",
      " 3   Whole weight    1379 non-null   float64\n",
      " 4   Shucked weight  1379 non-null   float64\n",
      " 5   Viscera weight  1379 non-null   float64\n",
      " 6   Shell weight    1379 non-null   float64\n",
      " 7   Sex_0           1379 non-null   float64\n",
      " 8   Sex_1           1379 non-null   float64\n",
      " 9   Sex_2           1379 non-null   float64\n",
      "dtypes: float64(10)\n",
      "memory usage: 118.5 KB\n"
     ]
    }
   ],
   "source": [
    "X_test.info()\n"
   ]
  },
  {
   "cell_type": "code",
   "execution_count": 34,
   "id": "ba5d9e53",
   "metadata": {
    "execution": {
     "iopub.execute_input": "2022-06-13T06:49:31.259161Z",
     "iopub.status.busy": "2022-06-13T06:49:31.258752Z",
     "iopub.status.idle": "2022-06-13T06:49:31.300789Z",
     "shell.execute_reply": "2022-06-13T06:49:31.299633Z"
    },
    "papermill": {
     "duration": 0.067163,
     "end_time": "2022-06-13T06:49:31.304536",
     "exception": false,
     "start_time": "2022-06-13T06:49:31.237373",
     "status": "completed"
    },
    "tags": []
   },
   "outputs": [],
   "source": [
    "'''Creating Object of LogisticRegression'''\n",
    "logreg = LogisticRegression()\n",
    "'''Learning from Training Set'''\n",
    "logreg.fit(X_train, Y_train)\n",
    "'''Predicting for Training Set'''\n",
    "Y_pred = logreg.predict(X_test)\n",
    "'''Accuracy Score'''\n",
    "result_acc = accuracy_score(Y_test,Y_pred) "
   ]
  },
  {
   "cell_type": "code",
   "execution_count": 35,
   "id": "2a6a3573",
   "metadata": {
    "execution": {
     "iopub.execute_input": "2022-06-13T06:49:31.379529Z",
     "iopub.status.busy": "2022-06-13T06:49:31.378848Z",
     "iopub.status.idle": "2022-06-13T06:49:31.387027Z",
     "shell.execute_reply": "2022-06-13T06:49:31.385983Z"
    },
    "papermill": {
     "duration": 0.049649,
     "end_time": "2022-06-13T06:49:31.390598",
     "exception": false,
     "start_time": "2022-06-13T06:49:31.340949",
     "status": "completed"
    },
    "tags": []
   },
   "outputs": [
    {
     "data": {
      "text/plain": [
       "0.7715736040609137"
      ]
     },
     "execution_count": 35,
     "metadata": {},
     "output_type": "execute_result"
    }
   ],
   "source": [
    "result_acc"
   ]
  },
  {
   "cell_type": "markdown",
   "id": "1633a275",
   "metadata": {
    "papermill": {
     "duration": 0.019045,
     "end_time": "2022-06-13T06:49:31.442722",
     "exception": false,
     "start_time": "2022-06-13T06:49:31.423677",
     "status": "completed"
    },
    "tags": []
   },
   "source": [
    "##### Vì vậy, để Xử lý Phân loại Nhiều Lớp, Chúng ta có thể Thử Mô hình SVM, vì nó hoạt động tốt cho Phân loại nhiều lớp và nhiều nhãn\n",
    "###### Trước tiên, chúng tôi sẽ thử với tất cả 09 lớp trong cột mục tiêu, sử dụng hạt nhân tuyến tính, giá trị tham số điều chỉnh là 1 và gamma 1"
   ]
  },
  {
   "cell_type": "code",
   "execution_count": 36,
   "id": "49ea48f1",
   "metadata": {
    "execution": {
     "iopub.execute_input": "2022-06-13T06:49:31.484443Z",
     "iopub.status.busy": "2022-06-13T06:49:31.484040Z",
     "iopub.status.idle": "2022-06-13T06:49:31.487973Z",
     "shell.execute_reply": "2022-06-13T06:49:31.487219Z"
    },
    "papermill": {
     "duration": 0.026969,
     "end_time": "2022-06-13T06:49:31.489829",
     "exception": false,
     "start_time": "2022-06-13T06:49:31.462860",
     "status": "completed"
    },
    "tags": []
   },
   "outputs": [],
   "source": [
    "'''Importing SVM from SK-Learn'''\n",
    "from sklearn import svm"
   ]
  },
  {
   "cell_type": "code",
   "execution_count": 37,
   "id": "48814d49",
   "metadata": {
    "execution": {
     "iopub.execute_input": "2022-06-13T06:49:31.530111Z",
     "iopub.status.busy": "2022-06-13T06:49:31.529167Z",
     "iopub.status.idle": "2022-06-13T06:49:31.791784Z",
     "shell.execute_reply": "2022-06-13T06:49:31.790789Z"
    },
    "papermill": {
     "duration": 0.285109,
     "end_time": "2022-06-13T06:49:31.794055",
     "exception": false,
     "start_time": "2022-06-13T06:49:31.508946",
     "status": "completed"
    },
    "tags": []
   },
   "outputs": [],
   "source": [
    "'''Creating Object of SVM'''\n",
    "svmModel = svm.SVC(kernel='linear', C=1, gamma=1) \n",
    "'''Learning from Training Set'''\n",
    "svmModel.fit(X_train, Y_train)\n",
    "'''Predicting for Training Set'''\n",
    "Y_pred = svmModel.predict(X_test)\n",
    "'''Accuracy Score'''\n",
    "result_acc = accuracy_score(Y_test,Y_pred) "
   ]
  },
  {
   "cell_type": "code",
   "execution_count": 38,
   "id": "96f2e98c",
   "metadata": {
    "execution": {
     "iopub.execute_input": "2022-06-13T06:49:31.835606Z",
     "iopub.status.busy": "2022-06-13T06:49:31.834629Z",
     "iopub.status.idle": "2022-06-13T06:49:32.281194Z",
     "shell.execute_reply": "2022-06-13T06:49:32.279538Z"
    },
    "papermill": {
     "duration": 0.469608,
     "end_time": "2022-06-13T06:49:32.283943",
     "exception": false,
     "start_time": "2022-06-13T06:49:31.814335",
     "status": "completed"
    },
    "tags": []
   },
   "outputs": [],
   "source": [
    "'''Creating Object of SVM'''\n",
    "svmModel = svm.SVC(kernel='rbf', C=1, gamma=100) \n",
    "'''Learning from Training Set'''\n",
    "svmModel.fit(X_train, Y_train)\n",
    "'''Predicting for Training Set'''\n",
    "Y_pred = svmModel.predict(X_test)\n",
    "'''Accuracy Score'''\n",
    "result_acc = accuracy_score(Y_test,Y_pred) "
   ]
  },
  {
   "cell_type": "code",
   "execution_count": 39,
   "id": "03724b28",
   "metadata": {
    "execution": {
     "iopub.execute_input": "2022-06-13T06:49:32.340510Z",
     "iopub.status.busy": "2022-06-13T06:49:32.339607Z",
     "iopub.status.idle": "2022-06-13T06:49:32.346502Z",
     "shell.execute_reply": "2022-06-13T06:49:32.345485Z"
    },
    "papermill": {
     "duration": 0.038273,
     "end_time": "2022-06-13T06:49:32.348713",
     "exception": false,
     "start_time": "2022-06-13T06:49:32.310440",
     "status": "completed"
    },
    "tags": []
   },
   "outputs": [],
   "source": [
    "'''Making a Copy of the primary DataSet'''\n",
    "new_df = df.copy()"
   ]
  },
  {
   "cell_type": "code",
   "execution_count": 40,
   "id": "1f7d84fb",
   "metadata": {
    "execution": {
     "iopub.execute_input": "2022-06-13T06:49:32.395656Z",
     "iopub.status.busy": "2022-06-13T06:49:32.394998Z",
     "iopub.status.idle": "2022-06-13T06:49:32.404254Z",
     "shell.execute_reply": "2022-06-13T06:49:32.403401Z"
    },
    "papermill": {
     "duration": 0.031888,
     "end_time": "2022-06-13T06:49:32.406535",
     "exception": false,
     "start_time": "2022-06-13T06:49:32.374647",
     "status": "completed"
    },
    "tags": []
   },
   "outputs": [],
   "source": [
    "'''Feature Engineering , class 1 - 1-8, class 2 - 9-8, class 3 - 11 >'''\n",
    "new_df['newRings_1'] = np.where(df['Rings'] <= 8,1,0)\n",
    "new_df['newRings_2'] = np.where(((df['Rings'] > 8) & (df['Rings'] <= 10)), 2,0)\n",
    "new_df['newRings_3'] = np.where(df['Rings'] > 10,3,0)"
   ]
  },
  {
   "cell_type": "code",
   "execution_count": 41,
   "id": "e15c5dd6",
   "metadata": {
    "execution": {
     "iopub.execute_input": "2022-06-13T06:49:32.447871Z",
     "iopub.status.busy": "2022-06-13T06:49:32.447025Z",
     "iopub.status.idle": "2022-06-13T06:49:32.453341Z",
     "shell.execute_reply": "2022-06-13T06:49:32.452261Z"
    },
    "papermill": {
     "duration": 0.029215,
     "end_time": "2022-06-13T06:49:32.455807",
     "exception": false,
     "start_time": "2022-06-13T06:49:32.426592",
     "status": "completed"
    },
    "tags": []
   },
   "outputs": [],
   "source": [
    "new_df['newRings'] = new_df['newRings_1'] + new_df['newRings_2'] + new_df['newRings_3']"
   ]
  },
  {
   "cell_type": "code",
   "execution_count": 42,
   "id": "059b2a9a",
   "metadata": {
    "execution": {
     "iopub.execute_input": "2022-06-13T06:49:32.500579Z",
     "iopub.status.busy": "2022-06-13T06:49:32.500080Z",
     "iopub.status.idle": "2022-06-13T06:49:32.507464Z",
     "shell.execute_reply": "2022-06-13T06:49:32.506474Z"
    },
    "papermill": {
     "duration": 0.032634,
     "end_time": "2022-06-13T06:49:32.509711",
     "exception": false,
     "start_time": "2022-06-13T06:49:32.477077",
     "status": "completed"
    },
    "tags": []
   },
   "outputs": [],
   "source": [
    "'''Learning Features and Predicting Features'''\n",
    "Xtrain = new_df.drop(['Rings','Age','Sex','newRings_1','newRings_2','newRings_3'], axis = 1)\n",
    "Ytrain = new_df['newRings']"
   ]
  },
  {
   "cell_type": "code",
   "execution_count": 43,
   "id": "0123a35a",
   "metadata": {
    "execution": {
     "iopub.execute_input": "2022-06-13T06:49:32.552706Z",
     "iopub.status.busy": "2022-06-13T06:49:32.552002Z",
     "iopub.status.idle": "2022-06-13T06:49:32.564630Z",
     "shell.execute_reply": "2022-06-13T06:49:32.563662Z"
    },
    "papermill": {
     "duration": 0.036119,
     "end_time": "2022-06-13T06:49:32.566693",
     "exception": false,
     "start_time": "2022-06-13T06:49:32.530574",
     "status": "completed"
    },
    "tags": []
   },
   "outputs": [
    {
     "name": "stdout",
     "output_type": "stream",
     "text": [
      "<class 'pandas.core.frame.DataFrame'>\n",
      "RangeIndex: 4177 entries, 0 to 4176\n",
      "Data columns (total 11 columns):\n",
      " #   Column          Non-Null Count  Dtype  \n",
      "---  ------          --------------  -----  \n",
      " 0   Length          4177 non-null   float64\n",
      " 1   Diameter        4177 non-null   float64\n",
      " 2   Height          4177 non-null   float64\n",
      " 3   Whole weight    4177 non-null   float64\n",
      " 4   Shucked weight  4177 non-null   float64\n",
      " 5   Viscera weight  4177 non-null   float64\n",
      " 6   Shell weight    4177 non-null   float64\n",
      " 7   Sex_0           4177 non-null   float64\n",
      " 8   Sex_1           4177 non-null   float64\n",
      " 9   Sex_2           4177 non-null   float64\n",
      " 10  newRings        4177 non-null   int64  \n",
      "dtypes: float64(10), int64(1)\n",
      "memory usage: 359.1 KB\n"
     ]
    }
   ],
   "source": [
    "Xtrain.info()\n"
   ]
  },
  {
   "cell_type": "code",
   "execution_count": 44,
   "id": "77a17e2c",
   "metadata": {
    "execution": {
     "iopub.execute_input": "2022-06-13T06:49:32.606469Z",
     "iopub.status.busy": "2022-06-13T06:49:32.606041Z",
     "iopub.status.idle": "2022-06-13T06:49:32.613868Z",
     "shell.execute_reply": "2022-06-13T06:49:32.613111Z"
    },
    "papermill": {
     "duration": 0.030142,
     "end_time": "2022-06-13T06:49:32.615891",
     "exception": false,
     "start_time": "2022-06-13T06:49:32.585749",
     "status": "completed"
    },
    "tags": []
   },
   "outputs": [],
   "source": [
    "'''Train Test Split , 70:30 Ratio'''\n",
    "X_train, X_test, Y_train, Y_test = train_test_split(Xtrain, Ytrain, test_size=0.33, random_state=42)"
   ]
  },
  {
   "cell_type": "code",
   "execution_count": 45,
   "id": "4467be90",
   "metadata": {
    "execution": {
     "iopub.execute_input": "2022-06-13T06:49:32.657138Z",
     "iopub.status.busy": "2022-06-13T06:49:32.655959Z",
     "iopub.status.idle": "2022-06-13T06:49:33.016244Z",
     "shell.execute_reply": "2022-06-13T06:49:33.015025Z"
    },
    "papermill": {
     "duration": 0.383749,
     "end_time": "2022-06-13T06:49:33.018778",
     "exception": false,
     "start_time": "2022-06-13T06:49:32.635029",
     "status": "completed"
    },
    "tags": []
   },
   "outputs": [],
   "source": [
    "'''Creating Object of SVM'''\n",
    "svmModel = svm.SVC(kernel='rbf', C=1, gamma=100) \n",
    "'''Learning from Training Set'''\n",
    "svmModel.fit(X_train, Y_train)\n",
    "'''Predicting for Training Set'''\n",
    "Y_pred = svmModel.predict(X_test)\n",
    "'''Accuracy Score'''\n",
    "result_acc = accuracy_score(Y_test,Y_pred) "
   ]
  },
  {
   "cell_type": "code",
   "execution_count": 46,
   "id": "e04b170e",
   "metadata": {
    "execution": {
     "iopub.execute_input": "2022-06-13T06:49:33.062760Z",
     "iopub.status.busy": "2022-06-13T06:49:33.062091Z",
     "iopub.status.idle": "2022-06-13T06:49:33.067872Z",
     "shell.execute_reply": "2022-06-13T06:49:33.067056Z"
    },
    "papermill": {
     "duration": 0.030332,
     "end_time": "2022-06-13T06:49:33.070014",
     "exception": false,
     "start_time": "2022-06-13T06:49:33.039682",
     "status": "completed"
    },
    "tags": []
   },
   "outputs": [
    {
     "data": {
      "text/plain": [
       "0.9840464104423495"
      ]
     },
     "execution_count": 46,
     "metadata": {},
     "output_type": "execute_result"
    }
   ],
   "source": [
    "result_acc"
   ]
  }
 ],
 "metadata": {
  "kernelspec": {
   "display_name": "Python 3",
   "language": "python",
   "name": "python3"
  },
  "language_info": {
   "codemirror_mode": {
    "name": "ipython",
    "version": 3
   },
   "file_extension": ".py",
   "mimetype": "text/x-python",
   "name": "python",
   "nbconvert_exporter": "python",
   "pygments_lexer": "ipython3",
   "version": "3.7.12"
  },
  "papermill": {
   "default_parameters": {},
   "duration": 44.16375,
   "end_time": "2022-06-13T06:49:33.913861",
   "environment_variables": {},
   "exception": null,
   "input_path": "__notebook__.ipynb",
   "output_path": "__notebook__.ipynb",
   "parameters": {},
   "start_time": "2022-06-13T06:48:49.750111",
   "version": "2.3.4"
  }
 },
 "nbformat": 4,
 "nbformat_minor": 5
}
